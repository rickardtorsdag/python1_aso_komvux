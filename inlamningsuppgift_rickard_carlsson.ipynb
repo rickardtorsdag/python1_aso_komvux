{
  "nbformat": 4,
  "nbformat_minor": 0,
  "metadata": {
    "colab": {
      "name": "inlamningsuppgift_rickard_carlsson.ipynb",
      "provenance": [],
      "authorship_tag": "ABX9TyOw0CEizmWSCNt4JSOzH+mp",
      "include_colab_link": true
    },
    "kernelspec": {
      "name": "python3",
      "display_name": "Python 3"
    },
    "language_info": {
      "name": "python"
    }
  },
  "cells": [
    {
      "cell_type": "markdown",
      "metadata": {
        "id": "view-in-github",
        "colab_type": "text"
      },
      "source": [
        "<a href=\"https://colab.research.google.com/github/rickardtorsdag/python1_aso_komvux/blob/main/inlamningsuppgift_rickard_carlsson.ipynb\" target=\"_parent\"><img src=\"https://colab.research.google.com/assets/colab-badge.svg\" alt=\"Open In Colab\"/></a>"
      ]
    },
    {
      "cell_type": "markdown",
      "metadata": {
        "id": "6TSx04xbnul_"
      },
      "source": [
        "1 Skriv ett program som matar in två tal och skriver ut det största talet.\n"
      ]
    },
    {
      "cell_type": "code",
      "metadata": {
        "colab": {
          "base_uri": "https://localhost:8080/"
        },
        "id": "uUDsh01VxFi6",
        "outputId": "9ca8c2ee-47bb-4f35-cd74-e2b744595eb3"
      },
      "source": [
        "tal1, tal2 = map(int, input('Mata in två tal som skiljs av ett mellanslag: ').split())\n",
        "if tal1>tal2:\n",
        "  print(f'{tal1} är störst')\n",
        "elif tal1<tal2:\n",
        "  print(f'{tal2} är störst' )\n",
        "else: \n",
        "  print('Talen är lika stora')"
      ],
      "execution_count": 1,
      "outputs": [
        {
          "output_type": "stream",
          "name": "stdout",
          "text": [
            "Mata in två tal som skiljs av ett mellanslag: 2 -77\n",
            "2 är störst\n"
          ]
        }
      ]
    },
    {
      "cell_type": "markdown",
      "metadata": {
        "id": "hNVtFJ_Tnxpi"
      },
      "source": [
        "2 Skriv ett program som matar in tre tal och skriver ut det minsta talet."
      ]
    },
    {
      "cell_type": "code",
      "metadata": {
        "colab": {
          "base_uri": "https://localhost:8080/"
        },
        "id": "YCN_10T9nzmk",
        "outputId": "e3eb8f08-27fa-47ee-a90f-dd9f32e27e52"
      },
      "source": [
        "tallista= []\n",
        "for i in range(1, 4):\n",
        "  tal = int(input(f'Mata in tal {i}: '))\n",
        "  tallista.append(tal)\n",
        "print(f'Det lägsta talet är {min(tallista)} ')\n"
      ],
      "execution_count": 2,
      "outputs": [
        {
          "output_type": "stream",
          "name": "stdout",
          "text": [
            "Mata in tal 1: 3\n",
            "Mata in tal 2: -99\n",
            "Mata in tal 3: 123\n",
            "Det lägsta talet är -99 \n"
          ]
        }
      ]
    },
    {
      "cell_type": "markdown",
      "metadata": {
        "id": "TQjIGi4dn0OR"
      },
      "source": [
        "3 Skriv ett program som skriver ut alla jämna heltal mellan 2 och 50."
      ]
    },
    {
      "cell_type": "code",
      "metadata": {
        "colab": {
          "base_uri": "https://localhost:8080/"
        },
        "id": "GxiJhuIrn05u",
        "outputId": "de573c7f-8122-4693-ab10-b76e98e479fd"
      },
      "source": [
        "for i in range(2, 51):\n",
        "  if i%2 ==0:\n",
        "    print(i, end=' ')"
      ],
      "execution_count": 3,
      "outputs": [
        {
          "output_type": "stream",
          "name": "stdout",
          "text": [
            "2 4 6 8 10 12 14 16 18 20 22 24 26 28 30 32 34 36 38 40 42 44 46 48 50 "
          ]
        }
      ]
    },
    {
      "cell_type": "code",
      "metadata": {
        "id": "RfgyPGJIt0E5"
      },
      "source": [
        ""
      ],
      "execution_count": 3,
      "outputs": []
    }
  ]
}